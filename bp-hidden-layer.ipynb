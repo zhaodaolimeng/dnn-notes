{
 "cells": [
  {
   "cell_type": "code",
   "execution_count": 24,
   "metadata": {},
   "outputs": [],
   "source": [
    "import numpy as np\n",
    "from numpy import random"
   ]
  },
  {
   "cell_type": "code",
   "execution_count": 2,
   "metadata": {},
   "outputs": [
    {
     "name": "stdout",
     "output_type": "stream",
     "text": [
      "Magic number: 2049\n",
      "Number of items: 60000\n"
     ]
    }
   ],
   "source": [
    "filename_train_labels = './dataset/train-labels-idx1-ubyte'\n",
    "dataset_labels = []\n",
    "\n",
    "with open(filename_train_labels, 'rb') as f:\n",
    "    first_4_bytes = int.from_bytes(f.read(4), byteorder='big', signed=False)\n",
    "    print('Magic number: %d' % first_4_bytes)\n",
    "    number_of_items = int.from_bytes(f.read(4), byteorder='big', signed=False)\n",
    "    print('Number of items: %d' % number_of_items)\n",
    "    \n",
    "    item = f.read(number_of_items)\n",
    "    dataset_labels = [i for i in item]\n",
    "        "
   ]
  },
  {
   "cell_type": "code",
   "execution_count": 3,
   "metadata": {},
   "outputs": [
    {
     "name": "stdout",
     "output_type": "stream",
     "text": [
      "Magic number: 2051\n",
      "Number of items: 60000\n",
      "Number of rows: 28\n",
      "Number of columns: 28\n"
     ]
    }
   ],
   "source": [
    "filename_train_images = './dataset/train-images-idx3-ubyte'\n",
    "dataset_images = []\n",
    "\n",
    "with open(filename_train_images, 'rb') as f:\n",
    "    first_4_bytes = int.from_bytes(f.read(4), byteorder='big', signed=False)\n",
    "    print('Magic number: %d' % first_4_bytes)\n",
    "    number_of_items = int.from_bytes(f.read(4), byteorder='big', signed=False)\n",
    "    print('Number of items: %d' % number_of_items)\n",
    "    number_of_rows = int.from_bytes(f.read(4), byteorder='big', signed=False)\n",
    "    print('Number of rows: %d' % number_of_rows)\n",
    "    number_of_columns = int.from_bytes(f.read(4), byteorder='big', signed=False)\n",
    "    print('Number of columns: %d' % number_of_columns)\n",
    "    \n",
    "    for _ in range(number_of_items):\n",
    "        item = f.read(number_of_rows*number_of_columns)\n",
    "        dataset_images.append([i for i in item])"
   ]
  },
  {
   "cell_type": "code",
   "execution_count": 10,
   "metadata": {},
   "outputs": [],
   "source": [
    "# 使用numpy实现一个全连接模型\n",
    "\n",
    "learning_rate = 0.1\n",
    "\n",
    "n_items = len(dataset_images)\n",
    "train_test_ratio = 9\n",
    "train_size = int(n_items * train_test_ratio / (1 + train_test_ratio))\n",
    "\n",
    "image_size = number_of_rows * number_of_columns\n",
    "hidden_size = 64\n",
    "output_size = 10\n",
    "\n",
    "train_index = np.random.choice(list(range(n_items)), size=train_size)\n",
    "test_index = list(set(list(range(n_items))) - set(train_index))\n",
    "\n",
    "train_images = [dataset_images[i] for i in train_index]\n",
    "test_images = [dataset_images[i] for i in test_index]\n",
    "\n",
    "train_labels = [dataset_labels[i] for i in train_index]\n",
    "test_labels = [dataset_labels[i] for i in test_index]"
   ]
  },
  {
   "cell_type": "code",
   "execution_count": 5,
   "metadata": {},
   "outputs": [],
   "source": [
    "def softmax(x):\n",
    "#     return np.exp(x) / np.sum(np.exp(x), axis=0)  # not stable\n",
    "    exps = np.exp(x - x.max())\n",
    "    return exps / np.sum(exps)"
   ]
  },
  {
   "cell_type": "code",
   "execution_count": 45,
   "metadata": {},
   "outputs": [
    {
     "name": "stdout",
     "output_type": "stream",
     "text": [
      "0\n",
      "W1.shape=(64, 784)\n",
      "b1.shape=(64,)\n",
      "x1.shape=(64,)\n",
      "Error = 1.0\n",
      "dx1_db1_.shape=(10, 64)\n",
      "dE_dx1.shape=(64, 10)\n",
      "==========\n",
      "1\n",
      "W1.shape=(64, 784)\n",
      "b1.shape=(64, 64)\n",
      "x1.shape=(64, 64)\n"
     ]
    },
    {
     "ename": "ValueError",
     "evalue": "operands could not be broadcast together with shapes (10,64) (10,) ",
     "output_type": "error",
     "traceback": [
      "\u001b[0;31m---------------------------------------------------------------------------\u001b[0m",
      "\u001b[0;31mValueError\u001b[0m                                Traceback (most recent call last)",
      "\u001b[0;32m<ipython-input-45-85e30b631b65>\u001b[0m in \u001b[0;36m<module>\u001b[0;34m()\u001b[0m\n\u001b[1;32m     20\u001b[0m     \u001b[0mprint\u001b[0m\u001b[0;34m(\u001b[0m\u001b[0;34m'x1.shape='\u001b[0m \u001b[0;34m+\u001b[0m \u001b[0mstr\u001b[0m\u001b[0;34m(\u001b[0m\u001b[0mx1\u001b[0m\u001b[0;34m.\u001b[0m\u001b[0mshape\u001b[0m\u001b[0;34m)\u001b[0m\u001b[0;34m)\u001b[0m\u001b[0;34m\u001b[0m\u001b[0m\n\u001b[1;32m     21\u001b[0m \u001b[0;34m\u001b[0m\u001b[0m\n\u001b[0;32m---> 22\u001b[0;31m     \u001b[0mx2\u001b[0m \u001b[0;34m=\u001b[0m \u001b[0mW2\u001b[0m\u001b[0;34m.\u001b[0m\u001b[0mdot\u001b[0m\u001b[0;34m(\u001b[0m\u001b[0mx1\u001b[0m\u001b[0;34m)\u001b[0m \u001b[0;34m+\u001b[0m \u001b[0mb2\u001b[0m\u001b[0;34m\u001b[0m\u001b[0m\n\u001b[0m\u001b[1;32m     23\u001b[0m \u001b[0;34m\u001b[0m\u001b[0m\n\u001b[1;32m     24\u001b[0m     \u001b[0my\u001b[0m \u001b[0;34m=\u001b[0m \u001b[0mnp\u001b[0m\u001b[0;34m.\u001b[0m\u001b[0mzeros\u001b[0m\u001b[0;34m(\u001b[0m\u001b[0moutput_size\u001b[0m\u001b[0;34m)\u001b[0m\u001b[0;34m\u001b[0m\u001b[0m\n",
      "\u001b[0;31mValueError\u001b[0m: operands could not be broadcast together with shapes (10,64) (10,) "
     ]
    }
   ],
   "source": [
    "random.seed(0)\n",
    "\n",
    "W1 = random.random([hidden_size, image_size])\n",
    "W2 = random.random([output_size, hidden_size])\n",
    "\n",
    "b1 = random.random(hidden_size)\n",
    "b2 = random.random(output_size)\n",
    "\n",
    "# train forward\n",
    "X = train_images\n",
    "Y = train_labels\n",
    "\n",
    "for idx, x in enumerate(X):\n",
    "    print(idx)\n",
    "\n",
    "    x1 = W1.dot(x) + b1\n",
    "    \n",
    "    print('W1.shape=' + str(W1.shape))\n",
    "    print('b1.shape=' + str(b1.shape))\n",
    "    print('x1.shape=' + str(x1.shape))\n",
    "    \n",
    "    x2 = W2.dot(x1) + b2\n",
    "   \n",
    "    y = np.zeros(output_size)\n",
    "    y[Y[idx]] = 1.0    \n",
    "    y_ = softmax(x2)\n",
    "    pred = np.argmax(y_)\n",
    "    E = 0.5 * np.sum(np.square(y - y_))  # error\n",
    "    \n",
    "    if idx % 100 == 0:\n",
    "        print('Error = ' + str(E))\n",
    "    \n",
    "    # softmax layer\n",
    "    dE_dy = y_-y  # (10,)\n",
    "    dy_dx2 = y_*(1-y_)  # (10,)\n",
    "    dE_dx2 = dE_dy*dy_dx2  # (10,)*(10,) => (10,)\n",
    "    \n",
    "    # layer 2\n",
    "    dx2_dW2 = x1  # (784,)\n",
    "    dE_dW2 = dx2_dW2*np.expand_dims(dE_dx2, axis=1)  # (10,64)*(64,) => (10,64)\n",
    "    \n",
    "    dx2_db2 = np.ones(b2.shape[0])  # (10,) => (10,)\n",
    "    dE_db2 = dE_dx2*dx2_db2  # (10,)*(10,) => (10,)\n",
    "    \n",
    "    # layer 1    \n",
    "    dx1_dW1 = x  # (784,)\n",
    "    dx1_db1 = np.ones(b1.shape[0])  # (64,)\n",
    "    \n",
    "    dx2_dx1 = W2  # (10,64)\n",
    "    dE_dx1 = np.transpose(dx2_dx1)*dE_dx2 # (64,10)*(10,) => (64,)\n",
    "    dx1_dW1_ = np.repeat(np.expand_dims(dx1_dW1, axis=0), dE_dx1.shape[1], axis=0)\n",
    "    dE_dW1 = np.dot(dE_dx1, dx1_dW1_) # (64,10)*(10,784) => (64,784)\n",
    "    dx1_db1_ = np.repeat(np.expand_dims(dx1_db1, axis=0), dE_dx1.shape[1], axis=0)\n",
    "    dE_db1 = dE_dx1.dot(dx1_db1_)  # () => (64,)\n",
    "    print('dx1_db1_.shape=' + str(dx1_db1_.shape))\n",
    "    print('dE_dx1.shape=' + str(dE_dx1.shape))\n",
    "    \n",
    "    # update parameter\n",
    "    W2 = W2 - learning_rate*dE_dW2\n",
    "    W1 = W1 - learning_rate*dE_dW1\n",
    "    b2 = b2 - learning_rate*dE_db2\n",
    "    b1 = b1 - learning_rate*dE_db1  #FIXME dimension error\n",
    "    print('='*10)\n",
    "    \n",
    "    \n",
    "    \n",
    "print('y = ' + str(y))\n",
    "print('y_ = ' + str(y_))\n",
    "print('pred = ' + str(pred))\n",
    "    "
   ]
  },
  {
   "cell_type": "code",
   "execution_count": 130,
   "metadata": {},
   "outputs": [
    {
     "data": {
      "text/plain": [
       "(64,)"
      ]
     },
     "execution_count": 130,
     "metadata": {},
     "output_type": "execute_result"
    }
   ],
   "source": [
    "b1.shape"
   ]
  },
  {
   "cell_type": "code",
   "execution_count": 131,
   "metadata": {
    "scrolled": true
   },
   "outputs": [
    {
     "ename": "ValueError",
     "evalue": "operands could not be broadcast together with shapes (64,10) (64,) ",
     "output_type": "error",
     "traceback": [
      "\u001b[0;31m---------------------------------------------------------------------------\u001b[0m",
      "\u001b[0;31mValueError\u001b[0m                                Traceback (most recent call last)",
      "\u001b[0;32m<ipython-input-131-b984ec3f2157>\u001b[0m in \u001b[0;36m<module>\u001b[0;34m()\u001b[0m\n\u001b[1;32m      7\u001b[0m \u001b[0;34m\u001b[0m\u001b[0m\n\u001b[1;32m      8\u001b[0m \u001b[0mdx1_db1\u001b[0m \u001b[0;34m=\u001b[0m \u001b[0mnp\u001b[0m\u001b[0;34m.\u001b[0m\u001b[0mones\u001b[0m\u001b[0;34m(\u001b[0m\u001b[0mb1\u001b[0m\u001b[0;34m.\u001b[0m\u001b[0mshape\u001b[0m\u001b[0;34m[\u001b[0m\u001b[0;36m0\u001b[0m\u001b[0;34m]\u001b[0m\u001b[0;34m)\u001b[0m\u001b[0;34m\u001b[0m\u001b[0m\n\u001b[0;32m----> 9\u001b[0;31m \u001b[0mdE_db1\u001b[0m \u001b[0;34m=\u001b[0m \u001b[0mdE_dx1\u001b[0m\u001b[0;34m*\u001b[0m\u001b[0mdx1_db1\u001b[0m  \u001b[0;31m# (64,) <= (64,10)*(64,)\u001b[0m\u001b[0;34m\u001b[0m\u001b[0m\n\u001b[0m",
      "\u001b[0;31mValueError\u001b[0m: operands could not be broadcast together with shapes (64,10) (64,) "
     ]
    }
   ],
   "source": [
    "# x1 = W1*x + b1  # (64,) <= (64,784)*(784,) + (64,)\n",
    "# x2 = W2*x1 + b2  # (10,) <= (10,64)*(64,) + (10,)\n",
    "# y = softmax(x2)  # (10,) <= (10,)\n",
    "\n",
    "# np.repeat(dx1_db1, dE_dx1.shape[1], axis=0).shape\n",
    "# dx1_db1_ = np.repeat(np.expand_dims(dx1_db1, axis=0), dE_dx1.shape[1], axis=0)\n",
    "\n",
    "dx1_db1 = np.ones(b1.shape[0])\n",
    "dE_db1 = dE_dx1*dx1_db1  # (64,) <= (64,10)*(64,)"
   ]
  },
  {
   "cell_type": "code",
   "execution_count": 125,
   "metadata": {},
   "outputs": [
    {
     "name": "stdout",
     "output_type": "stream",
     "text": [
      "(64, 10)\n"
     ]
    }
   ],
   "source": [
    "print(dE_dx1.shape)"
   ]
  },
  {
   "cell_type": "code",
   "execution_count": 124,
   "metadata": {},
   "outputs": [
    {
     "data": {
      "text/plain": [
       "(10, 64)"
      ]
     },
     "execution_count": 124,
     "metadata": {},
     "output_type": "execute_result"
    }
   ],
   "source": [
    "print(dx1_db1_.shape)"
   ]
  },
  {
   "cell_type": "code",
   "execution_count": 48,
   "metadata": {},
   "outputs": [
    {
     "name": "stdout",
     "output_type": "stream",
     "text": [
      "(64, 784)\n",
      "784\n",
      "(64,)\n",
      "(10, 64)\n"
     ]
    }
   ],
   "source": [
    "# W1.dot(x).shape\n",
    "print(str(W1.shape))\n",
    "print(str(len(x)))\n",
    "print(str(W1.dot(x).shape))\n",
    "print(str(W2.shape))"
   ]
  },
  {
   "cell_type": "code",
   "execution_count": 62,
   "metadata": {},
   "outputs": [
    {
     "data": {
      "text/plain": [
       "(10, 64)"
      ]
     },
     "execution_count": 62,
     "metadata": {},
     "output_type": "execute_result"
    }
   ],
   "source": [
    "(dx2_dW2*np.expand_dims(dE_dx2, axis=1)).shape"
   ]
  }
 ],
 "metadata": {
  "kernelspec": {
   "display_name": "Python 3",
   "language": "python",
   "name": "python3"
  },
  "language_info": {
   "codemirror_mode": {
    "name": "ipython",
    "version": 3
   },
   "file_extension": ".py",
   "mimetype": "text/x-python",
   "name": "python",
   "nbconvert_exporter": "python",
   "pygments_lexer": "ipython3",
   "version": "3.6.3"
  }
 },
 "nbformat": 4,
 "nbformat_minor": 2
}
